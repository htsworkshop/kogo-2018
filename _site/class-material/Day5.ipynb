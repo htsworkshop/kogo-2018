{
 "cells": [
  {
   "cell_type": "markdown",
   "metadata": {},
   "source": [
    "# Example Notebook For Group Projects#\n",
    "\n",
    "08-28-2015\n",
    "\n",
    "This is an example notebook for the types of analysis that will be performed on Day 5 of the Biocomputing Bootcamp."
   ]
  },
  {
   "cell_type": "markdown",
   "metadata": {},
   "source": [
    "#### Setup"
   ]
  },
  {
   "cell_type": "code",
   "execution_count": null,
   "metadata": {},
   "outputs": [],
   "source": [
    "# imports matplotlib\n",
    "# import pyplot to plt\n",
    "%pylab inline\n",
    "import numpy as np\n",
    "import subprocess\n",
    "import re\n",
    "from scipy import stats\n",
    "import os\n",
    "import csv\n",
    "import vcf\n",
    "import sys\n",
    "import pysam\n",
    "from operator import itemgetter\n",
    "from itertools import groupby, cycle\n",
    "\n",
    "workDir = '/home/remills/day5/'\n",
    "# workDir ='/scratch/biobootcamp_fluxod/myname/day5/'\n",
    "genoDir= '/scratch/biobootcamp_fluxod/remills/bioboot/geuvadis/genotypes_fixed/'\n",
    "expDir = '/scratch/biobootcamp_fluxod/remills/bioboot/geuvadis/analysis_results'\n",
    "\n",
    "os.chdir(workDir)\n",
    "\n",
    "print('Work directory is',os.getcwd())\n",
    "print('Genotype directory is',genoDir)\n",
    "print('Gene Expression directory is',expDir)"
   ]
  },
  {
   "cell_type": "code",
   "execution_count": null,
   "metadata": {
    "collapsed": true
   },
   "outputs": [],
   "source": [
    "# you will hit an error in the above line.\n",
    "# read the error message and determine what needs to be done (here and at the terminal)"
   ]
  },
  {
   "cell_type": "markdown",
   "metadata": {
    "collapsed": true
   },
   "source": [
    "###Obtaining Data\n",
    "Scientists must often make use of large data sets that are made available on either websites or data repositories. Here, we have already downloaded the pertinent data, but for reference here is a way the data could be obtained."
   ]
  },
  {
   "cell_type": "code",
   "execution_count": null,
   "metadata": {
    "collapsed": true
   },
   "outputs": [],
   "source": [
    "\n",
    "#os.chdir(expDir)\n",
    "#subprocess.call([\"wget\", \"ftp://ftp.ebi.ac.uk/pub/databases/microarray/data/experiment/GEUV/E-GEUV-1/analysis_results/*\"])\n",
    "#os.chdir(genoDir)\n",
    "#subprocess.call([\"wget\", \"ftp://ftp.ebi.ac.uk/pub/databases/microarray/data/experiment/GEUV/E-GEUV-1/genotypes/*\"])\n",
    "#os.chdir(workDir)"
   ]
  },
  {
   "cell_type": "code",
   "execution_count": null,
   "metadata": {
    "collapsed": true
   },
   "outputs": [],
   "source": []
  },
  {
   "cell_type": "markdown",
   "metadata": {},
   "source": [
    "### Parsing the expression value table\n",
    "The file with gene-level quantification under the data directory\n",
    "in a file named GeneQuantRPKM.txt\n",
    "\n",
    "This file is a matrix of gene expression values across genes (rows) vs individuals (columns)\n",
    "\n",
    "We'd like to parse the following:\n",
    "  1. List of individual/sample names\n",
    "  2. List of gene names\n",
    "  \n",
    "  \n",
    "Go back to the shell and check it out via unix commands (less, cut, head)"
   ]
  },
  {
   "cell_type": "code",
   "execution_count": null,
   "metadata": {
    "collapsed": true
   },
   "outputs": [],
   "source": []
  },
  {
   "cell_type": "code",
   "execution_count": null,
   "metadata": {
    "collapsed": true
   },
   "outputs": [],
   "source": [
    "pathToQuantFile = expDir + '/GD660.GeneQuantRPKM.txt'"
   ]
  },
  {
   "cell_type": "code",
   "execution_count": null,
   "metadata": {
    "collapsed": true
   },
   "outputs": [],
   "source": []
  },
  {
   "cell_type": "code",
   "execution_count": null,
   "metadata": {
    "collapsed": true
   },
   "outputs": [],
   "source": []
  },
  {
   "cell_type": "markdown",
   "metadata": {},
   "source": [
    "#### Get list of individual/sample names from the quant file\n",
    "\n",
    " - first open the file for reading\n",
    " - Loop through the file, line by line\n",
    " - At each line, extract the gene name and add it to a list"
   ]
  },
  {
   "cell_type": "code",
   "execution_count": null,
   "metadata": {
    "collapsed": true
   },
   "outputs": [],
   "source": [
    "def readIndivNamesFromExpressionTable( tableFileName ):\n",
    "    tableFile = open( tableFileName, 'r' )\n",
    "    \n",
    "    firstLine = tableFile.readline()\n",
    "    # split at the tab separators into a list\n",
    "    firstLine = firstLine.rstrip().split('\\t')\n",
    "    \n",
    "    firstLine = [ name.split('.')[0] for name in firstLine ]\n",
    "    \n",
    "    # everything after the fourth column\n",
    "    return firstLine[4:]"
   ]
  },
  {
   "cell_type": "code",
   "execution_count": null,
   "metadata": {
    "collapsed": true
   },
   "outputs": [],
   "source": []
  },
  {
   "cell_type": "code",
   "execution_count": null,
   "metadata": {
    "collapsed": true
   },
   "outputs": [],
   "source": [
    "expressionTableIndivs = readIndivNamesFromExpressionTable( pathToQuantFile )\n",
    "\n",
    "# this returns a dict mapping from person name to the column number in the file"
   ]
  },
  {
   "cell_type": "code",
   "execution_count": null,
   "metadata": {},
   "outputs": [],
   "source": [
    "# sanity check - is this right?  (go back to your flux terminal and verify)\n",
    "expressionTableIndivs.index( 'HG00105' )"
   ]
  },
  {
   "cell_type": "code",
   "execution_count": null,
   "metadata": {
    "collapsed": true
   },
   "outputs": [],
   "source": []
  },
  {
   "cell_type": "code",
   "execution_count": null,
   "metadata": {
    "collapsed": true
   },
   "outputs": [],
   "source": []
  },
  {
   "cell_type": "markdown",
   "metadata": {},
   "source": [
    "#### DIY - get list of gene names from the quant file\n",
    "\n",
    " - first open the file for reading\n",
    " - Loop through the file, line by line\n",
    " - At each line, extract the gene name and add it to a list\n",
    " - final list should have entries of the form \"ENSG###########\" \n"
   ]
  },
  {
   "cell_type": "code",
   "execution_count": null,
   "metadata": {
    "collapsed": true
   },
   "outputs": [],
   "source": [
    "def readGeneNamesFromExpressionTable( tableFileName ):\n",
    "    tableFile = open( tableFileName, 'r' )\n",
    "    \n",
    "    # ...\n",
    "\n",
    "    # return something\n",
    "    \n",
    "# one solution:"
   ]
  },
  {
   "cell_type": "code",
   "execution_count": null,
   "metadata": {},
   "outputs": [],
   "source": [
    "listOfGeneNames = readGeneNamesFromExpressionTable( pathToQuantFile )\n",
    "\n",
    "print(listOfGeneNames[0:10])"
   ]
  },
  {
   "cell_type": "code",
   "execution_count": null,
   "metadata": {
    "collapsed": true
   },
   "outputs": [],
   "source": []
  },
  {
   "cell_type": "markdown",
   "metadata": {},
   "source": [
    "#### DIY - extract a given gene by name from this file\n",
    "\n",
    " - first open the file for reading\n",
    " - Loop through the file, line by line\n",
    " - If the gene name is equal to the one we're looking for, process the line:\n",
    "     - extract numerical expression values from the line\n",
    "     - make a dictionary from individual name to expression value\n",
    "     - then return the dictionary\n",
    "   \n",
    "   \n",
    " - advanced: to perform this operation much more quickly, explore using pandas\n",
    " <pre>\n",
    " import pandas as pd\n",
    " tbl = pd.read_csv(filename, sep='\\t')\n",
    " tbl = tbl.set_index #  (....a column name - which one do you want to index on? )\n",
    " tbl.ix['ENSG00000215372.5']\n",
    "\n"
   ]
  },
  {
   "cell_type": "code",
   "execution_count": null,
   "metadata": {
    "collapsed": true
   },
   "outputs": [],
   "source": [
    "def extractExpressionValues( tableFileName, geneName, indivList  ):\n",
    "\n",
    "    # open the file\n",
    "    \n",
    "    # loop over lines\n",
    "    \n",
    "    # when you reach a matching line, put expression value and individual name into a dictionary\n",
    "    \n",
    "    # hint 1: if you are part of the way there but stuck, try putting print statements \n",
    "    #    in your code to debug\n",
    "    # \n",
    "    # hint 2: there many ways to do this -- but one useful function is zip\n",
    "    #\n",
    "    #   https://docs.python.org/2/library/functions.html#zip\n",
    "    #   \n",
    "    #   test combining two lists \n",
    "    #       my_favorites = zip( ['brewery','ice cream','peninsula'], ['new glarus','washtenaw','olympic'] )\n",
    "    #   \n",
    "    #   this will make a list of tuples\n",
    "    #    \n",
    "    #   a dictionary can be made from a list of tuples by calling\n",
    "    #     dict( my_favorites ) \n",
    "    #  \n",
    "    # hint 3: if you have a list that you need to convert to floating point numbers\n",
    "    #    you could use a list comprehension such as\n",
    "    #    one_list = [ float(thing) for thing in another_list ]\n",
    "    #    \n",
    "    \n",
    "    # return ...\n",
    "    \n",
    "    return\n"
   ]
  },
  {
   "cell_type": "code",
   "execution_count": null,
   "metadata": {
    "collapsed": true
   },
   "outputs": [],
   "source": []
  },
  {
   "cell_type": "code",
   "execution_count": null,
   "metadata": {
    "collapsed": true
   },
   "outputs": [],
   "source": [
    "indivToExpr = extractExpressionValues( pathToQuantFile, 'ENSG00000151503', expressionTableIndivs )"
   ]
  },
  {
   "cell_type": "code",
   "execution_count": null,
   "metadata": {},
   "outputs": [],
   "source": [
    "print(list(indivToExpr.keys())[:10])\n",
    "print(list(indivToExpr.values())[:10])"
   ]
  },
  {
   "cell_type": "markdown",
   "metadata": {},
   "source": [
    "#### DIY:  visualize the distribution of expression values for this gene\n",
    "\n",
    "- refer back the day3 basic plotting notebook (https://github.com/bioboot/web-2015/blob/gh-pages/class-material/basic_matplotlib_plots.ipynb) to plot rank-ordered values\n"
   ]
  },
  {
   "cell_type": "code",
   "execution_count": null,
   "metadata": {},
   "outputs": [],
   "source": []
  },
  {
   "cell_type": "code",
   "execution_count": null,
   "metadata": {
    "collapsed": true
   },
   "outputs": [],
   "source": []
  },
  {
   "cell_type": "markdown",
   "metadata": {},
   "source": [
    "### Pick a region\n",
    "\n",
    "chr5:95,984,676-96,185,176 - Alcohol Dependence - ERAP1 - rs13160562 GWAS, rs1057569 eQTL  \n",
    "chr11:47,426,802-47,627,302 - Body Mass Index - MTCH2 - rs3817334 GWAS, rs10838724 eQTL  \n",
    "chr1:205,620,478-205,820,978 - Parkinsons disease - RAB7L1 - rs947211 GWAS, rs708725 eQTL  \n",
    "chr21:38,432,812-38,633,312 - Eye color traits - TTC3 - rs1003719 GWAS, rs3787788 eQTL  \n",
    "chr20:5,883,504-6,084,004 - HIV-1 control - MCM8 - rs454422 GWAS, rs13041190 eQTL  \n",
    "chr5:156,807,522-157,008,022 - Pulmonary function - ADAM19 - rs2277027 GWAS, rs9313615 eQTL \n",
    "\n",
    "Go to ENSEMBL and find the gene identifier (starts \"ENSG..\") for your gene symbol (ERAP1, MTCH2,...)\n",
    "\n",
    "Under \"Search:\" select Human, and enter your gene name.  You'll see a list of results, and look \n",
    "for an identifier beginning with \"ENSG\"\n",
    "\n",
    "Quickly check for that line in the table using grep.  "
   ]
  },
  {
   "cell_type": "code",
   "execution_count": null,
   "metadata": {},
   "outputs": [],
   "source": [
    "chromo = '5'\n",
    "startPos, endPos = 95984676, 96185176\n",
    "region = chromo + \":\" + str(startPos) + \"-\" + str(endPos)\n",
    "region"
   ]
  },
  {
   "cell_type": "code",
   "execution_count": null,
   "metadata": {
    "collapsed": true
   },
   "outputs": [],
   "source": []
  },
  {
   "cell_type": "markdown",
   "metadata": {},
   "source": [
    "#### DIY - extract & plot expression values for your gene\n",
    " - plot as a ranked list \n",
    " - plot as a histogram\n",
    " - plot as a boxplot"
   ]
  },
  {
   "cell_type": "code",
   "execution_count": null,
   "metadata": {
    "scrolled": true
   },
   "outputs": [],
   "source": []
  },
  {
   "cell_type": "code",
   "execution_count": null,
   "metadata": {
    "collapsed": true
   },
   "outputs": [],
   "source": []
  },
  {
   "cell_type": "code",
   "execution_count": null,
   "metadata": {
    "collapsed": true
   },
   "outputs": [],
   "source": []
  },
  {
   "cell_type": "markdown",
   "metadata": {},
   "source": [
    "### Extract genotype data\n",
    "Now that we have the files in the proper format, we will pull out the relevant portions to \n",
    "our analysis using one of the regions of interest. \n",
    "\n",
    "Given that each region is ~200,000 bp in size, \n",
    "there will likely be many more SNPs than there are genes in the region. \n",
    "\n",
    " - In your flux terminal, check out the genotypes directory.  Which file do you need to use?\n",
    " - These files are large!  We will not loop through the entire chromosome vcf just for our small region\n",
    " - Instead, we can use tabix -- try this from the command line and extract the results into an individual VCF in your own directory\n",
    " - use bgzip and tabix to compress this file\n"
   ]
  },
  {
   "cell_type": "code",
   "execution_count": null,
   "metadata": {
    "collapsed": true
   },
   "outputs": [],
   "source": [
    "pathToMyGenotypes = genoDir + 'GEUVADIS.chr5.PH1PH2_465.IMPFRQFILT_BIALLELIC_PH.annotv2.genotypes.vcf.gz'\n",
    "pathToMyRegionGenotypes = workDir + '/ERAP1_flank200k_genotypes.vcf.gz'"
   ]
  },
  {
   "cell_type": "code",
   "execution_count": null,
   "metadata": {},
   "outputs": [],
   "source": [
    "command = \"tabix \" + pathToMyGenotypes + \" \" + region + \" > ERAP1_flank200k_genotypes.vcf\" \n",
    "print(command)\n",
    "subprocess.call(command, shell=True)"
   ]
  },
  {
   "cell_type": "code",
   "execution_count": null,
   "metadata": {
    "collapsed": true
   },
   "outputs": [],
   "source": [
    "command = \"bgzip ERAP1_flank200k_genotypes.vcf; tabix ERAP1_flank200k_genotypes.vcf.gz\" \n",
    "print(command)\n",
    "subprocess.call(command, shell=True)"
   ]
  },
  {
   "cell_type": "code",
   "execution_count": null,
   "metadata": {
    "collapsed": true
   },
   "outputs": [],
   "source": []
  },
  {
   "cell_type": "code",
   "execution_count": null,
   "metadata": {
    "collapsed": true
   },
   "outputs": [],
   "source": []
  },
  {
   "cell_type": "markdown",
   "metadata": {},
   "source": [
    "#### Try out PyVCF \n",
    "\n",
    "Quick introduction: http://pyvcf.readthedocs.org/en/latest/INTRO.html \n",
    "\n",
    "This is a useful python library for reading VCF files, so you don't have to write your own parser"
   ]
  },
  {
   "cell_type": "code",
   "execution_count": null,
   "metadata": {
    "collapsed": true
   },
   "outputs": [],
   "source": [
    "vcfFile = vcf.Reader( filename='/scratch/biobootcamp_fluxod/remills/bioboot/geuvadis/genotypes_fixed/GEUVADIS.chr5.PH1PH2_465.IMPFRQFILT_BIALLELIC_PH.annotv2.genotypes.vcf.gz')"
   ]
  },
  {
   "cell_type": "code",
   "execution_count": null,
   "metadata": {
    "collapsed": true
   },
   "outputs": [],
   "source": [
    "line = next(vcfFile)"
   ]
  },
  {
   "cell_type": "code",
   "execution_count": null,
   "metadata": {
    "scrolled": true
   },
   "outputs": [],
   "source": [
    "print(line)"
   ]
  },
  {
   "cell_type": "code",
   "execution_count": null,
   "metadata": {},
   "outputs": [],
   "source": [
    "print(line.genotype( 'NA07357' ))"
   ]
  },
  {
   "cell_type": "code",
   "execution_count": null,
   "metadata": {
    "scrolled": true
   },
   "outputs": [],
   "source": [
    "print(line.INFO)"
   ]
  },
  {
   "cell_type": "code",
   "execution_count": null,
   "metadata": {
    "collapsed": true
   },
   "outputs": [],
   "source": []
  },
  {
   "cell_type": "code",
   "execution_count": null,
   "metadata": {},
   "outputs": [],
   "source": [
    "# what is the allele frequency (overall among our samples) of this variant?\n",
    "print(line.INFO['AF'])\n",
    "# what would 0.01 mean?  \n",
    "# what would 0.99 mean?"
   ]
  },
  {
   "cell_type": "code",
   "execution_count": null,
   "metadata": {
    "collapsed": true
   },
   "outputs": [],
   "source": []
  },
  {
   "cell_type": "code",
   "execution_count": null,
   "metadata": {},
   "outputs": [],
   "source": [
    "print(line.genotype( 'NA07357' )['GT'])"
   ]
  },
  {
   "cell_type": "code",
   "execution_count": null,
   "metadata": {},
   "outputs": [],
   "source": [
    "#  http://pyvcf.readthedocs.org/en/latest/API.html?highlight=gt_type#vcf.model._Call.gt_type\n",
    "print(line.genotype( 'NA07357' ).gt_type)"
   ]
  },
  {
   "cell_type": "code",
   "execution_count": null,
   "metadata": {
    "collapsed": true
   },
   "outputs": [],
   "source": []
  },
  {
   "cell_type": "code",
   "execution_count": null,
   "metadata": {
    "collapsed": true
   },
   "outputs": [],
   "source": []
  },
  {
   "cell_type": "markdown",
   "metadata": {},
   "source": [
    "#### Select rows by genomic coordintate \n",
    "\n",
    "PyVCF has tabix functionality 'baked in'\n",
    "\n",
    "Use the .fetch() command"
   ]
  },
  {
   "cell_type": "code",
   "execution_count": null,
   "metadata": {},
   "outputs": [],
   "source": [
    "# count number of variant records on chrom 9 between 40 and 40.1 Mbp\n",
    "countOfLines = 0\n",
    "for line in vcfFile.fetch( '9', 40000000, 40100000 ):\n",
    "    countOfLines += 1\n",
    "    \n",
    "print(countOfLines)"
   ]
  },
  {
   "cell_type": "markdown",
   "metadata": {},
   "source": [
    "#### DIY- count number of rows in same region with MAF > 5%"
   ]
  },
  {
   "cell_type": "code",
   "execution_count": null,
   "metadata": {},
   "outputs": [],
   "source": []
  },
  {
   "cell_type": "markdown",
   "metadata": {},
   "source": [
    "#### DIY- count number of rows YOUR region with MAF > 5%"
   ]
  },
  {
   "cell_type": "code",
   "execution_count": null,
   "metadata": {},
   "outputs": [],
   "source": [
    "print(chromo,startPos,endPos)"
   ]
  },
  {
   "cell_type": "code",
   "execution_count": null,
   "metadata": {},
   "outputs": [],
   "source": []
  },
  {
   "cell_type": "code",
   "execution_count": null,
   "metadata": {
    "collapsed": true
   },
   "outputs": [],
   "source": []
  },
  {
   "cell_type": "code",
   "execution_count": null,
   "metadata": {
    "collapsed": true
   },
   "outputs": [],
   "source": []
  },
  {
   "cell_type": "markdown",
   "metadata": {},
   "source": [
    "### Do a ordinary linear regression in python\n",
    "\n",
    "- Using the function stats.linrgress \n",
    "- Consult documentation here http://docs.scipy.org/doc/scipy-0.15.1/reference/generated/scipy.stats.linregress.html\n",
    "- Or, use shift-TAB (as on Day 3) to get a brief description of arguments\n",
    "\n"
   ]
  },
  {
   "cell_type": "markdown",
   "metadata": {},
   "source": [
    "#### Test with some well-correlated random samples\n",
    "- sample X  ~ N(10,2)\n",
    "- sample Y ~ 3*x + e, e ~ N(0,1)\n",
    "- plot the points X versus Y\n",
    "- plot the best fit line \n",
    "\n"
   ]
  },
  {
   "cell_type": "code",
   "execution_count": null,
   "metadata": {},
   "outputs": [],
   "source": [
    "#...\n",
    "\n",
    "print slope\n",
    "print intercept\n",
    "print r_value\n",
    "print p_value\n",
    "print std_err\n"
   ]
  },
  {
   "cell_type": "code",
   "execution_count": null,
   "metadata": {},
   "outputs": [],
   "source": [
    "# DIY: plot x vs y\n"
   ]
  },
  {
   "cell_type": "code",
   "execution_count": null,
   "metadata": {},
   "outputs": [],
   "source": [
    "# DIY: plot x versus y and best fit line\n"
   ]
  },
  {
   "cell_type": "code",
   "execution_count": null,
   "metadata": {
    "collapsed": true
   },
   "outputs": [],
   "source": []
  },
  {
   "cell_type": "code",
   "execution_count": null,
   "metadata": {
    "collapsed": true
   },
   "outputs": [],
   "source": []
  },
  {
   "cell_type": "markdown",
   "metadata": {},
   "source": [
    "### Put it all together\n",
    "\n",
    "- Loop through a list of genes in the region\n",
    "- Get gene expression values\n",
    "- In that region, loop through every SNP\n",
    "    - Only consider SNPs with MAF > 5%\n",
    "- For each SNP, perform a linear regression of expression against genotype (0,1,2)"
   ]
  },
  {
   "cell_type": "code",
   "execution_count": null,
   "metadata": {
    "collapsed": true
   },
   "outputs": [],
   "source": [
    "#\n",
    "# define a function that will take in:\n",
    "#    fnQuant - filename of the gene expression file\n",
    "#    fnRegionVcf - filename of the genotypes (.vcf.gz)\n",
    "#    gene - identifier of the gene for eQTL analysis \n",
    "#    chromo - chromosome name of the eQTL analysis region (doesn't necessarily have to overlap gene but usually does)\n",
    "#    startPos - starting position of eQTL analysis region\n",
    "#    endPos - ending position of eQTL analysis region\n",
    "#    expressoinTableIndivs - list of individuals in the expression table\n",
    "#    \n",
    "def regionVsSingleGene( fnQuant,\n",
    "                        fnRegionVcf,\n",
    "                        gene, \n",
    "                        chromo,\n",
    "                        startPos, \n",
    "                        endPos,\n",
    "                        expressionTableIndivs,\n",
    "                        cutoffToPlot = 1e-40,\n",
    "                        makePlots=True ):\n",
    "\n",
    "    # do some setup - open the genotypes\n",
    "    vcfFile = vcf.Reader(filename=fnRegionVcf)\n",
    "    \n",
    "    # DIY - use our previously defined function readIndivNamesFromExpressionTable\n",
    "    # to load the names of individuals from the gene expression table\n",
    "    \n",
    "    # DIY - use our previously defined function extractExpressionValues\n",
    "    # to load the epxression values of this gene into a dictionary\n",
    "    \n",
    "    # DIY - convert the expression values to a list \n",
    "    #listOfExpressionValues = []\n",
    "    #for sample in #something#:\n",
    "    #    listOfExpressionValues.append( #SOMETHING... )\n",
    "    \n",
    "    # setup some tracking values\n",
    "    bestPval = 1e99        #  best P-value so far \n",
    "    bestSnp = None         # best SNP position so far \n",
    "    listOfPvalues = []     # list of per-SNP P-values \n",
    "    listOfSnpCoords = []   # list of per-SNP coordinates\n",
    "    counter = 0            # increment this every time we go through the vcf file\n",
    "\n",
    "    # now query the vcf file for variants \n",
    "    \n",
    "    for record in vcfFile.fetch( chromo, startPos, endPos ):\n",
    "    \n",
    "        # \n",
    "        counter += 1\n",
    "        if counter % 250 == 0 :\n",
    "            print 'on snp #',counter,'...'\n",
    "\n",
    "        #  DIY - if this SNP minor AF is < 5%, skip it\n",
    "        #\n",
    "        \n",
    "        # DIY append the current SNP coordinate to that list. \n",
    "\n",
    "        listOfSnpCoords.append( record.POS )\n",
    "        \n",
    "        # DIY - make a list of genotype calls,\n",
    "        #  in the same order as the gene expression and individual name\n",
    "        #  lists\n",
    "        #listOfGenotypeCalls = []\n",
    "\n",
    "        #for sample in SOMETHING: \n",
    "            #\n",
    "            #get the genotype record for this current sample\n",
    "            #\n",
    "            #use the .gt_type as we did above to extract a genotype (0,1,2) \n",
    "            #and append this to listOfGenotypeCalls.\n",
    "            #\n",
    "            # before appending, check that geno is 0 or 1 or 2 ... if not, just append 0\n",
    "            #\n",
    "\n",
    "            \n",
    "        # DIY - now we have a list of genotypes as numbers and a list of \n",
    "        #   expression values.  Convert each to a numpy array, e.g.,   something = np.array(something_else)\n",
    "\n",
    "        # DIY - perform linear regression for *this marker's* genotypes vs \n",
    "        #  the gene's expression level\n",
    "        #\n",
    "        #  append the p value;  if it's less than the current best p-value, \n",
    "        #    then update the current best p value and location\n",
    "        \n",
    "        # DIY - scatter plot with regression \n",
    "        #if p_value < cutoffToPlot and makePlots:\n",
    "            print record.ID\n",
    "            print 'gene',gene\n",
    "            print 'r value', r_value\n",
    "            print  'p_value', p_value\n",
    "            print 'standard deviation', std_err\n",
    "\n",
    "            # plot expression level vs genotype as a scatter plot\n",
    "            # plot the regression line \n",
    "            \n",
    "    return bestPval, bestSnp, listOfPvalues, listOfSnpCoords"
   ]
  },
  {
   "cell_type": "code",
   "execution_count": null,
   "metadata": {
    "collapsed": true
   },
   "outputs": [],
   "source": []
  },
  {
   "cell_type": "code",
   "execution_count": null,
   "metadata": {},
   "outputs": [],
   "source": [
    "# now we'll use this function\n",
    "\n",
    "bestPval, bestSnp, listOfPvalues, listOfSnpCoords = regionVsSingleGene( \n",
    "        pathToQuantFile,\n",
    "        pathToMyRegionGenotypes,\n",
    "        'ENSG00000164307', \n",
    "        chromo,\n",
    "        startPos, \n",
    "        endPos,\n",
    "        cutoffToPlot=1e-65,\n",
    "        makePlots=True )"
   ]
  },
  {
   "cell_type": "code",
   "execution_count": null,
   "metadata": {},
   "outputs": [],
   "source": [
    "print('best p value is',bestPval)"
   ]
  },
  {
   "cell_type": "markdown",
   "metadata": {},
   "source": [
    "#### DIY: modify above code to produce a boxplot rather than a scatterplot\n",
    "- hint - in addition to making a list of all x (genotype) and y (expression values), also construct lists of values for the 0/0, 0/1, and 1/1 genotypes"
   ]
  },
  {
   "cell_type": "code",
   "execution_count": null,
   "metadata": {
    "collapsed": true
   },
   "outputs": [],
   "source": [
    "\n",
    "def regionVsSingleGeneBoxplot( fnQuant,\n",
    "                        fnRegionVcf,\n",
    "                        gene, \n",
    "                        chromo,\n",
    "                        startPos, \n",
    "                        endPos,\n",
    "                        cutoffToPlot = 1e-40,\n",
    "                        makePlots=True ):\n",
    "\n",
    "    # copy above function and make a few modifications"
   ]
  },
  {
   "cell_type": "code",
   "execution_count": null,
   "metadata": {},
   "outputs": [],
   "source": [
    "# now we'll use this function\n",
    "\n",
    "bestPval, bestSnp, listOfPvalues, listOfSnpCoords = regionVsSingleGeneBoxplot( \n",
    "        pathToQuantFile,\n",
    "        pathToMyRegionGenotypes,\n",
    "        'ENSG00000164307', \n",
    "        chromo,\n",
    "        startPos, \n",
    "        endPos,\n",
    "        cutoffToPlot=1e-65,\n",
    "        makePlots=True )"
   ]
  },
  {
   "cell_type": "markdown",
   "metadata": {},
   "source": [
    "#### DIY: make a Manhattan plot\n",
    " - SNP p-value versus coordinate\n",
    " - usually it's best to view these as -log10(p) -- numpy has a log10 function"
   ]
  },
  {
   "cell_type": "code",
   "execution_count": null,
   "metadata": {},
   "outputs": [],
   "source": []
  },
  {
   "cell_type": "code",
   "execution_count": null,
   "metadata": {
    "collapsed": true
   },
   "outputs": [],
   "source": []
  },
  {
   "cell_type": "code",
   "execution_count": null,
   "metadata": {
    "collapsed": true
   },
   "outputs": [],
   "source": []
  },
  {
   "cell_type": "markdown",
   "metadata": {},
   "source": [
    "### Challenge ideas\n",
    " - Expand the regions, then loop over multiple genes within the region.  Do cis-eQTLs for a given gene act as the same for adjacent genes?\n",
    " - Implement a permutation method to estimate false discovery rate.  For instance, you could add a new function to scramble the genotype values amongst individuals as they are read (or likewise for the expression values)"
   ]
  },
  {
   "cell_type": "code",
   "execution_count": null,
   "metadata": {
    "collapsed": true
   },
   "outputs": [],
   "source": []
  }
 ],
 "metadata": {
  "kernelspec": {
   "display_name": "Python 3",
   "language": "python",
   "name": "python3"
  },
  "language_info": {
   "codemirror_mode": {
    "name": "ipython",
    "version": 3
   },
   "file_extension": ".py",
   "mimetype": "text/x-python",
   "name": "python",
   "nbconvert_exporter": "python",
   "pygments_lexer": "ipython3",
   "version": "3.5.4"
  }
 },
 "nbformat": 4,
 "nbformat_minor": 1
}
