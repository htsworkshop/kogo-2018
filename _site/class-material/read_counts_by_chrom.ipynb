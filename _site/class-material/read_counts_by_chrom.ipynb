{
 "cells": [
  {
   "cell_type": "markdown",
   "metadata": {},
   "source": [
    "### Plot read counts on chromosome X versus autosomes across 100 individuals chosen from the 1000 Genomes Project"
   ]
  },
  {
   "cell_type": "code",
   "execution_count": 22,
   "metadata": {
    "collapsed": false
   },
   "outputs": [
    {
     "name": "stdout",
     "output_type": "stream",
     "text": [
      "Populating the interactive namespace from numpy and matplotlib\n"
     ]
    },
    {
     "name": "stderr",
     "output_type": "stream",
     "text": [
      "WARNING: pylab import has clobbered these variables: ['sample']\n",
      "`%matplotlib` prevents importing * from pylab and numpy\n"
     ]
    }
   ],
   "source": [
    "# turn on inline plots\n",
    "%pylab inline"
   ]
  },
  {
   "cell_type": "code",
   "execution_count": 2,
   "metadata": {
    "collapsed": true
   },
   "outputs": [],
   "source": [
    "import os.path"
   ]
  },
  {
   "cell_type": "code",
   "execution_count": 3,
   "metadata": {
    "collapsed": true
   },
   "outputs": [],
   "source": [
    "# Convinience definitions (data locations, etc)\n",
    "\n",
    "# the files are in the data subdirectory\n",
    "baseDir='./data/'\n",
    "\n",
    "fnSampleInfo = '%s/%s'%( baseDir, 'sample_info.txt' )\n",
    "fnReadCounts = '%s/%s'%( baseDir, 'read_counts_by_indiv_and_chrom.txt' )\n",
    "\n",
    "fnSampleList = '%s/%s'%( baseDir, 'sample_names.txt' )"
   ]
  },
  {
   "cell_type": "markdown",
   "metadata": {},
   "source": [
    "#### open the table of per-sample information (sex, population, etc)"
   ]
  },
  {
   "cell_type": "code",
   "execution_count": 4,
   "metadata": {
    "collapsed": false
   },
   "outputs": [],
   "source": [
    "fileSampleInfo = open(fnSampleInfo,'r')"
   ]
  },
  {
   "cell_type": "code",
   "execution_count": 5,
   "metadata": {
    "collapsed": false
   },
   "outputs": [],
   "source": [
    "line = fileSampleInfo.readline()"
   ]
  },
  {
   "cell_type": "code",
   "execution_count": 6,
   "metadata": {
    "collapsed": false
   },
   "outputs": [
    {
     "data": {
      "text/plain": [
       "'Sample\\tFamily ID\\tPopulation\\tPopulation Description\\tGender'"
      ]
     },
     "execution_count": 6,
     "metadata": {},
     "output_type": "execute_result"
    }
   ],
   "source": [
    "line = line.rstrip()\n",
    "line"
   ]
  },
  {
   "cell_type": "code",
   "execution_count": 7,
   "metadata": {
    "collapsed": false
   },
   "outputs": [
    {
     "data": {
      "text/plain": [
       "['Sample', 'Family ID', 'Population', 'Population Description', 'Gender']"
      ]
     },
     "execution_count": 7,
     "metadata": {},
     "output_type": "execute_result"
    }
   ],
   "source": [
    "line = line.split('\\t')\n",
    "line"
   ]
  },
  {
   "cell_type": "code",
   "execution_count": 8,
   "metadata": {
    "collapsed": false
   },
   "outputs": [
    {
     "name": "stdout",
     "output_type": "stream",
     "text": [
      "Sample\n"
     ]
    }
   ],
   "source": [
    "sampleName = line[0]\n",
    "print sampleName"
   ]
  },
  {
   "cell_type": "code",
   "execution_count": 9,
   "metadata": {
    "collapsed": false
   },
   "outputs": [
    {
     "name": "stdout",
     "output_type": "stream",
     "text": [
      "Gender\n"
     ]
    }
   ],
   "source": [
    "sampleSex = line[4]\n",
    "print sampleSex"
   ]
  },
  {
   "cell_type": "code",
   "execution_count": null,
   "metadata": {
    "collapsed": true
   },
   "outputs": [],
   "source": [
    "# now up and rerun line = fileSampleInfo.readline()  (In[5])\n",
    "# and rerun the readline and split commands\n",
    "# what has changed?"
   ]
  },
  {
   "cell_type": "code",
   "execution_count": 10,
   "metadata": {
    "collapsed": true
   },
   "outputs": [],
   "source": [
    "# a routine to parse the sample table, line-by-line, into a \n",
    "# dictionary mapping [individual name]-->[sex]\n",
    "\n",
    "def parseSampleTable( filename ):\n",
    "    fileSampTable = open(filename,'r')\n",
    "    \n",
    "    # skip past the file header\n",
    "    fileSampTable.readline()\n",
    "\n",
    "    sampleToSex={}\n",
    "    \n",
    "    # go line by line\n",
    "    for line in fileSampTable:\n",
    "        line = line.rstrip().split('\\t')\n",
    "        sampleToSex[ line[0] ] = line[4]\n",
    "    \n",
    "    return sampleToSex"
   ]
  },
  {
   "cell_type": "code",
   "execution_count": null,
   "metadata": {
    "collapsed": true
   },
   "outputs": [],
   "source": []
  },
  {
   "cell_type": "code",
   "execution_count": 11,
   "metadata": {
    "collapsed": false
   },
   "outputs": [],
   "source": [
    "sampToSex = parseSampleTable( fnSampleInfo )"
   ]
  },
  {
   "cell_type": "code",
   "execution_count": 12,
   "metadata": {
    "collapsed": false
   },
   "outputs": [
    {
     "data": {
      "text/plain": [
       "'female'"
      ]
     },
     "execution_count": 12,
     "metadata": {},
     "output_type": "execute_result"
    }
   ],
   "source": [
    "#what is the sex of individual HG00099?\n",
    "sampToSex[ 'HG00099' ]"
   ]
  },
  {
   "cell_type": "markdown",
   "metadata": {},
   "source": [
    "#### What is the total number of males and females in this table?"
   ]
  },
  {
   "cell_type": "code",
   "execution_count": 13,
   "metadata": {
    "collapsed": false
   },
   "outputs": [
    {
     "name": "stdout",
     "output_type": "stream",
     "text": [
      "found  1740 males\n",
      "found  1760 females\n"
     ]
    }
   ],
   "source": [
    "n_male = 0\n",
    "n_female = 0\n",
    "for sample in sampToSex:\n",
    "    if sampToSex[sample] == 'male':\n",
    "        n_male+=1\n",
    "    elif sampToSex[sample] == 'female':\n",
    "        n_female+=1\n",
    "\n",
    "print 'found ',n_male, 'males'\n",
    "print 'found ',n_female, 'females'"
   ]
  },
  {
   "cell_type": "code",
   "execution_count": null,
   "metadata": {
    "collapsed": true
   },
   "outputs": [],
   "source": []
  },
  {
   "cell_type": "code",
   "execution_count": null,
   "metadata": {
    "collapsed": true
   },
   "outputs": [],
   "source": []
  },
  {
   "cell_type": "markdown",
   "metadata": {},
   "source": [
    "####  Read count information"
   ]
  },
  {
   "cell_type": "code",
   "execution_count": 14,
   "metadata": {
    "collapsed": false
   },
   "outputs": [],
   "source": [
    "# e.g., let's look at one file\n",
    "fnReadCounts = '%s/NA18627.stats.txt'%( baseDir )\n",
    "filReadCounts = open(fnReadCounts,'r')\n",
    "line = filReadCounts.readline()"
   ]
  },
  {
   "cell_type": "code",
   "execution_count": 15,
   "metadata": {
    "collapsed": false
   },
   "outputs": [
    {
     "data": {
      "text/plain": [
       "'1\\t249250621\\t19054072\\t64720\\n'"
      ]
     },
     "execution_count": 15,
     "metadata": {},
     "output_type": "execute_result"
    }
   ],
   "source": [
    "line"
   ]
  },
  {
   "cell_type": "code",
   "execution_count": 16,
   "metadata": {
    "collapsed": false
   },
   "outputs": [
    {
     "name": "stdout",
     "output_type": "stream",
     "text": [
      "['1', '249250621', '19054072', '64720']\n"
     ]
    }
   ],
   "source": [
    "line = line.rstrip().split('\\t')\n",
    "print line"
   ]
  },
  {
   "cell_type": "code",
   "execution_count": null,
   "metadata": {
    "collapsed": true
   },
   "outputs": [],
   "source": []
  },
  {
   "cell_type": "markdown",
   "metadata": {},
   "source": [
    "### Load the list of samples I preprocessed"
   ]
  },
  {
   "cell_type": "code",
   "execution_count": 31,
   "metadata": {
    "collapsed": false
   },
   "outputs": [
    {
     "name": "stdout",
     "output_type": "stream",
     "text": [
      "['NA20803', 'HG04176', 'HG03824', 'NA19652']\n",
      "100\n"
     ]
    }
   ],
   "source": [
    "lSampleNames = [ line.strip() for line in open(fnSampleList,'r') ]\n",
    "print lSampleNames[:4]\n",
    "print len(lSampleNames)\n"
   ]
  },
  {
   "cell_type": "code",
   "execution_count": null,
   "metadata": {
    "collapsed": true
   },
   "outputs": [],
   "source": []
  },
  {
   "cell_type": "markdown",
   "metadata": {},
   "source": [
    "### Routine to load the autosomal and chrX read count sums from one individual"
   ]
  },
  {
   "cell_type": "code",
   "execution_count": 17,
   "metadata": {
    "collapsed": true
   },
   "outputs": [],
   "source": [
    "def loadAutoAndXCounts( directory, sampName ):\n",
    "    filename = '%s/%s.stats.txt'%( directory, sampName )\n",
    "    fileReadCounts = open(filename,'r')\n",
    "    \n",
    "    lChromNamesAutosomes = [ '%d'%i for i in range(1,23) ]\n",
    "    \n",
    "    nAutosomalReads = 0\n",
    "    nXReads = 0\n",
    "    \n",
    "    for line in fileReadCounts:\n",
    "        line = line.rstrip().split('\\t')\n",
    "        if line[0] in lChromNamesAutosomes:\n",
    "            nAutosomalReads += int( line[2] )\n",
    "        elif line[0] == 'X':\n",
    "            nXReads += int( line[2] )\n",
    "        # line goes chromosome, chromosome size, number of mapped reads, number of unmapped reads\n",
    "        \n",
    "    return nAutosomalReads, nXReads"
   ]
  },
  {
   "cell_type": "code",
   "execution_count": 83,
   "metadata": {
    "collapsed": false
   },
   "outputs": [
    {
     "data": {
      "text/plain": [
       "(224463998, 12606641)"
      ]
     },
     "execution_count": 83,
     "metadata": {},
     "output_type": "execute_result"
    }
   ],
   "source": [
    "loadAutoAndXCounts( baseDir, 'NA18627')"
   ]
  },
  {
   "cell_type": "markdown",
   "metadata": {},
   "source": [
    "### Routine to load the each chromosome read counts from one individual"
   ]
  },
  {
   "cell_type": "code",
   "execution_count": 73,
   "metadata": {
    "collapsed": true
   },
   "outputs": [],
   "source": [
    "def loadPerChromCounts( directory, sampName ):\n",
    "    filename = '%s/%s.stats.txt'%( directory, sampName )\n",
    "    fileReadCounts = open(filename,'r')\n",
    "    \n",
    "    lChromosomes = []\n",
    "    lReadCounts = [] \n",
    "    lChromSizes = []\n",
    "        \n",
    "    for line in fileReadCounts:\n",
    "        line = line.rstrip().split('\\t')\n",
    "        lChromosomes.append( line[0] )\n",
    "        lReadCounts.append( int(line[2]) )\n",
    "        lChromSizes.append( int(line[1]) )\n",
    "        \n",
    "    return lChromosomes, lReadCounts, lChromSizes"
   ]
  },
  {
   "cell_type": "code",
   "execution_count": 74,
   "metadata": {
    "collapsed": false
   },
   "outputs": [],
   "source": [
    "lChromosomes,lReadCounts,lChromSizes = loadPerChromCounts( baseDir, 'NA18627')"
   ]
  },
  {
   "cell_type": "code",
   "execution_count": null,
   "metadata": {
    "collapsed": true
   },
   "outputs": [],
   "source": []
  },
  {
   "cell_type": "code",
   "execution_count": 75,
   "metadata": {
    "collapsed": false
   },
   "outputs": [
    {
     "data": {
      "text/plain": [
       "<matplotlib.collections.PathCollection at 0x52d0910>"
      ]
     },
     "execution_count": 75,
     "metadata": {},
     "output_type": "execute_result"
    },
    {
     "data": {
      "image/png": "[encoded data removed]",
      "text/plain": [
       "<matplotlib.figure.Figure at 0x6503c10>"
      ]
     },
     "metadata": {},
     "output_type": "display_data"
    }
   ],
   "source": [
    "plt.scatter( lReadCounts, lChromSizes )"
   ]
  },
  {
   "cell_type": "code",
   "execution_count": 76,
   "metadata": {
    "collapsed": false
   },
   "outputs": [
    {
     "data": {
      "image/png": "[encoded data removed]",
      "text/plain": [
       "<matplotlib.figure.Figure at 0x3f00d10>"
      ]
     },
     "metadata": {},
     "output_type": "display_data"
    }
   ],
   "source": [
    "plt.scatter( lReadCounts, lChromSizes )\n",
    "for i in range(len(lReadCounts)):\n",
    "    if lChromSizes[i]>1e7:\n",
    "        plt.text( lReadCounts[i], lChromSizes[i], s=lChromosomes[i], color='red' )"
   ]
  },
  {
   "cell_type": "code",
   "execution_count": 84,
   "metadata": {
    "collapsed": false
   },
   "outputs": [],
   "source": [
    "lFracXMale=[]\n",
    "lFracXFemale=[]\n",
    "for sample in lSampleNames:\n",
    "    countAuto,countX = loadAutoAndXCounts( baseDir,  sample )\n",
    "\n",
    "    if sampToSex[sample]=='male':\n",
    "        lFracXMale.append( countX / float(countAuto+countX) )\n",
    "    elif sampToSex[sample]=='female':\n",
    "        lFracXFemale.append( countX / float(countAuto+countX) )\n",
    "    \n",
    "    "
   ]
  },
  {
   "cell_type": "code",
   "execution_count": 87,
   "metadata": {
    "collapsed": false
   },
   "outputs": [
    {
     "data": {
      "text/plain": [
       "[0.02761035261353097,\n",
       " 0.02775615501801825,\n",
       " 0.029240938756321326,\n",
       " 0.027870699590811697,\n",
       " 0.028455116235877407,\n",
       " 0.02868283944326584,\n",
       " 0.02780504586855437,\n",
       " 0.028867914330147446,\n",
       " 0.027349902803539303,\n",
       " 0.028001900196464223]"
      ]
     },
     "execution_count": 87,
     "metadata": {},
     "output_type": "execute_result"
    }
   ],
   "source": [
    "lFracXMale[0:10]"
   ]
  },
  {
   "cell_type": "code",
   "execution_count": 88,
   "metadata": {
    "collapsed": false
   },
   "outputs": [
    {
     "data": {
      "text/plain": [
       "[0.05653371177709138,\n",
       " 0.05268894812323853,\n",
       " 0.057011431369219566,\n",
       " 0.05157540371326981,\n",
       " 0.05353001549750549,\n",
       " 0.05407142462581126,\n",
       " 0.05157379614572769,\n",
       " 0.03167725193714202,\n",
       " 0.05486908474215978,\n",
       " 0.04889294416035746]"
      ]
     },
     "execution_count": 88,
     "metadata": {},
     "output_type": "execute_result"
    }
   ],
   "source": [
    "lFracXFemale[0:10]"
   ]
  },
  {
   "cell_type": "code",
   "execution_count": 86,
   "metadata": {
    "collapsed": false
   },
   "outputs": [
    {
     "data": {
      "image/png": "[encoded data removed]",
      "text/plain": [
       "<matplotlib.figure.Figure at 0x46fa810>"
      ]
     },
     "metadata": {},
     "output_type": "display_data"
    }
   ],
   "source": [
    "_ = plt.hist( [lFracXMale,lFracXFemale],  bins=100 )"
   ]
  },
  {
   "cell_type": "code",
   "execution_count": 89,
   "metadata": {
    "collapsed": false
   },
   "outputs": [
    {
     "data": {
      "text/plain": [
       "<matplotlib.legend.Legend at 0x6ba00d0>"
      ]
     },
     "execution_count": 89,
     "metadata": {},
     "output_type": "execute_result"
    },
    {
     "data": {
      "image/png": "[encoded data removed]",
      "text/plain": [
       "<matplotlib.figure.Figure at 0x6ba0390>"
      ]
     },
     "metadata": {},
     "output_type": "display_data"
    }
   ],
   "source": [
    "_ = plt.hist( [lFracXMale,lFracXFemale],  bins=100, label=['male','female'], edgecolor='none' )\n",
    "plt.legend()"
   ]
  },
  {
   "cell_type": "code",
   "execution_count": null,
   "metadata": {
    "collapsed": true
   },
   "outputs": [],
   "source": []
  }
 ],
 "metadata": {
  "kernelspec": {
   "display_name": "Python 2",
   "language": "python",
   "name": "python2"
  },
  "language_info": {
   "codemirror_mode": {
    "name": "ipython",
    "version": 2
   },
   "file_extension": ".py",
   "mimetype": "text/x-python",
   "name": "python",
   "nbconvert_exporter": "python",
   "pygments_lexer": "ipython2",
   "version": "2.7.5"
  }
 },
 "nbformat": 4,
 "nbformat_minor": 0
}
