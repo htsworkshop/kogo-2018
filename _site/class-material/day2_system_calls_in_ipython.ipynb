{
 "cells": [
  {
   "cell_type": "code",
   "execution_count": 1,
   "metadata": {
    "collapsed": true
   },
   "outputs": [],
   "source": [
    "import os\n",
    "import os.path\n",
    "import glob"
   ]
  },
  {
   "cell_type": "code",
   "execution_count": 2,
   "metadata": {
    "collapsed": true
   },
   "outputs": [],
   "source": [
    "# system calls in python"
   ]
  },
  {
   "cell_type": "code",
   "execution_count": 10,
   "metadata": {
    "collapsed": false
   },
   "outputs": [
    {
     "name": "stdout",
     "output_type": "stream",
     "text": [
      "cereals.tsv\r\n",
      "choosy_moms.tsv\r\n",
      "day2-python-pandas.pdf\r\n",
      "day2-python-pandas.pptx\r\n",
      "day2-visualization.pdf\r\n",
      "day2-visualization.pptx\r\n",
      "day2_matplotlib_demo.ipynb\r\n",
      "day2_matplotlib_demo_blank.ipynb\r\n",
      "day2_pandas_demo.ipynb\r\n",
      "day2_pandas_demo_blank.ipynb\r\n",
      "day2_system_calls_in_ipython.ipynb\r\n",
      "day2_system_calls_in_ipython_blank.ipynb\r\n",
      "day2_visualization_with_seaborn.ipynb\r\n",
      "day2_visualization_with_seaborn_blank.ipynb\r\n",
      "\u001b[34mpile_of_files\u001b[m\u001b[m\r\n"
     ]
    }
   ],
   "source": [
    "!ls "
   ]
  },
  {
   "cell_type": "code",
   "execution_count": 12,
   "metadata": {
    "collapsed": true
   },
   "outputs": [],
   "source": [
    "# any command-line command can be placed after the !\n",
    "# note - some of these may not be available on windows, or \n",
    "# may have a different name "
   ]
  },
  {
   "cell_type": "code",
   "execution_count": 14,
   "metadata": {
    "collapsed": false
   },
   "outputs": [
    {
     "name": "stdout",
     "output_type": "stream",
     "text": [
      "Name\tCups\tCalories\tCarbs\tFat\tFiber\tPotassium\tProtein\tSodium\tSugars\r\n",
      "CapnCrunch\t0.75\t120\t12\t2\t0\t35\t1\t220\t12\r\n",
      "CocoaPuffs\t1\t110\t12\t1\t0\t55\t1\t180\t13\r\n"
     ]
    }
   ],
   "source": [
    "!head -n3 cereals.tsv"
   ]
  },
  {
   "cell_type": "code",
   "execution_count": null,
   "metadata": {
    "collapsed": true
   },
   "outputs": [],
   "source": []
  },
  {
   "cell_type": "code",
   "execution_count": 7,
   "metadata": {
    "collapsed": false
   },
   "outputs": [
    {
     "ename": "FileExistsError",
     "evalue": "[Errno 17] File exists: 'pile_of_files'",
     "output_type": "error",
     "traceback": [
      "\u001b[0;31m---------------------------------------------------------------------------\u001b[0m",
      "\u001b[0;31mFileExistsError\u001b[0m                           Traceback (most recent call last)",
      "\u001b[0;32m<ipython-input-7-bbceee9d531e>\u001b[0m in \u001b[0;36m<module>\u001b[0;34m()\u001b[0m\n\u001b[1;32m      1\u001b[0m \u001b[0;31m# let's make a bunch of files to play with\u001b[0m\u001b[0;34m\u001b[0m\u001b[0;34m\u001b[0m\u001b[0m\n\u001b[1;32m      2\u001b[0m \u001b[0;31m# first make a directory\u001b[0m\u001b[0;34m\u001b[0m\u001b[0;34m\u001b[0m\u001b[0m\n\u001b[0;32m----> 3\u001b[0;31m \u001b[0mos\u001b[0m\u001b[0;34m.\u001b[0m\u001b[0mmakedirs\u001b[0m\u001b[0;34m(\u001b[0m\u001b[0;34m'pile_of_files'\u001b[0m\u001b[0;34m)\u001b[0m\u001b[0;34m\u001b[0m\u001b[0m\n\u001b[0m",
      "\u001b[0;32m/Users/kitzmanj/anaconda3/lib/python3.5/os.py\u001b[0m in \u001b[0;36mmakedirs\u001b[0;34m(name, mode, exist_ok)\u001b[0m\n\u001b[1;32m    239\u001b[0m             \u001b[0;32mreturn\u001b[0m\u001b[0;34m\u001b[0m\u001b[0m\n\u001b[1;32m    240\u001b[0m     \u001b[0;32mtry\u001b[0m\u001b[0;34m:\u001b[0m\u001b[0;34m\u001b[0m\u001b[0m\n\u001b[0;32m--> 241\u001b[0;31m         \u001b[0mmkdir\u001b[0m\u001b[0;34m(\u001b[0m\u001b[0mname\u001b[0m\u001b[0;34m,\u001b[0m \u001b[0mmode\u001b[0m\u001b[0;34m)\u001b[0m\u001b[0;34m\u001b[0m\u001b[0m\n\u001b[0m\u001b[1;32m    242\u001b[0m     \u001b[0;32mexcept\u001b[0m \u001b[0mOSError\u001b[0m\u001b[0;34m:\u001b[0m\u001b[0;34m\u001b[0m\u001b[0m\n\u001b[1;32m    243\u001b[0m         \u001b[0;31m# Cannot rely on checking for EEXIST, since the operating system\u001b[0m\u001b[0;34m\u001b[0m\u001b[0;34m\u001b[0m\u001b[0m\n",
      "\u001b[0;31mFileExistsError\u001b[0m: [Errno 17] File exists: 'pile_of_files'"
     ]
    }
   ],
   "source": [
    "# let's make a bunch of files to play with\n",
    "# first make a directory\n",
    "os.makedirs('pile_of_files')"
   ]
  },
  {
   "cell_type": "code",
   "execution_count": 9,
   "metadata": {
    "collapsed": true
   },
   "outputs": [],
   "source": [
    "# now loop 20 times and make a new file for each time through the loop\n",
    "for filenum in range(20):\n",
    "    newfile = open( 'pile_of_files/file_'+str(filenum)+'.txt', 'w' )\n",
    "    newfile.write('This is file number '+str(filenum)+'\\n')\n",
    "    newfile.close()"
   ]
  },
  {
   "cell_type": "code",
   "execution_count": null,
   "metadata": {
    "collapsed": true
   },
   "outputs": [],
   "source": []
  },
  {
   "cell_type": "code",
   "execution_count": null,
   "metadata": {
    "collapsed": true
   },
   "outputs": [],
   "source": []
  },
  {
   "cell_type": "code",
   "execution_count": null,
   "metadata": {
    "collapsed": true
   },
   "outputs": [],
   "source": []
  },
  {
   "cell_type": "code",
   "execution_count": null,
   "metadata": {
    "collapsed": true
   },
   "outputs": [],
   "source": [
    "# the library os.path provides us with some utilities for dealing with paths\n",
    "# also glob"
   ]
  },
  {
   "cell_type": "code",
   "execution_count": 18,
   "metadata": {
    "collapsed": false
   },
   "outputs": [],
   "source": [
    "list_of_filenames = glob.glob('./pile_of_files/*.txt')"
   ]
  },
  {
   "cell_type": "code",
   "execution_count": 23,
   "metadata": {
    "collapsed": false
   },
   "outputs": [
    {
     "data": {
      "text/plain": [
       "list"
      ]
     },
     "execution_count": 23,
     "metadata": {},
     "output_type": "execute_result"
    }
   ],
   "source": [
    "type(list_of_filenames)"
   ]
  },
  {
   "cell_type": "code",
   "execution_count": 24,
   "metadata": {
    "collapsed": false
   },
   "outputs": [
    {
     "data": {
      "text/plain": [
       "['./pile_of_files/file_0.txt',\n",
       " './pile_of_files/file_1.txt',\n",
       " './pile_of_files/file_10.txt',\n",
       " './pile_of_files/file_11.txt',\n",
       " './pile_of_files/file_12.txt',\n",
       " './pile_of_files/file_13.txt',\n",
       " './pile_of_files/file_14.txt',\n",
       " './pile_of_files/file_15.txt',\n",
       " './pile_of_files/file_16.txt',\n",
       " './pile_of_files/file_17.txt']"
      ]
     },
     "execution_count": 24,
     "metadata": {},
     "output_type": "execute_result"
    }
   ],
   "source": [
    "list_of_filenames[:10]"
   ]
  },
  {
   "cell_type": "code",
   "execution_count": 25,
   "metadata": {
    "collapsed": false
   },
   "outputs": [
    {
     "name": "stdout",
     "output_type": "stream",
     "text": [
      "writing out the first line of  ./pile_of_files/file_0.txt\n",
      "writing out the first line of  ./pile_of_files/file_1.txt\n",
      "writing out the first line of  ./pile_of_files/file_10.txt\n",
      "writing out the first line of  ./pile_of_files/file_11.txt\n",
      "writing out the first line of  ./pile_of_files/file_12.txt\n",
      "writing out the first line of  ./pile_of_files/file_13.txt\n",
      "writing out the first line of  ./pile_of_files/file_14.txt\n",
      "writing out the first line of  ./pile_of_files/file_15.txt\n",
      "writing out the first line of  ./pile_of_files/file_16.txt\n",
      "writing out the first line of  ./pile_of_files/file_17.txt\n",
      "writing out the first line of  ./pile_of_files/file_18.txt\n",
      "writing out the first line of  ./pile_of_files/file_19.txt\n",
      "writing out the first line of  ./pile_of_files/file_2.txt\n",
      "writing out the first line of  ./pile_of_files/file_3.txt\n",
      "writing out the first line of  ./pile_of_files/file_4.txt\n",
      "writing out the first line of  ./pile_of_files/file_5.txt\n",
      "writing out the first line of  ./pile_of_files/file_6.txt\n",
      "writing out the first line of  ./pile_of_files/file_7.txt\n",
      "writing out the first line of  ./pile_of_files/file_8.txt\n",
      "writing out the first line of  ./pile_of_files/file_9.txt\n"
     ]
    }
   ],
   "source": [
    "# we can use \"substitution\" to put the contents of python variables\n",
    "# into command line commands.  We do this by issuing a command \n",
    "# using the \"!\" syntax, and then refering to the variable with a $\n",
    "# as below\n",
    "\n",
    "for fn in list_of_filenames:\n",
    "    print('writing out the first line of ',fn)  # this is in python\n",
    "    x=!head -n1 $fn         # this is in bash -- but it uses a python variable, fn"
   ]
  },
  {
   "cell_type": "code",
   "execution_count": 26,
   "metadata": {
    "collapsed": false
   },
   "outputs": [
    {
     "data": {
      "text/plain": [
       "['This is file number 9']"
      ]
     },
     "execution_count": 26,
     "metadata": {},
     "output_type": "execute_result"
    }
   ],
   "source": [
    "x"
   ]
  },
  {
   "cell_type": "code",
   "execution_count": null,
   "metadata": {
    "collapsed": true
   },
   "outputs": [],
   "source": []
  }
 ],
 "metadata": {
  "anaconda-cloud": {},
  "kernelspec": {
   "display_name": "Python [default]",
   "language": "python",
   "name": "python3"
  },
  "language_info": {
   "codemirror_mode": {
    "name": "ipython",
    "version": 3
   },
   "file_extension": ".py",
   "mimetype": "text/x-python",
   "name": "python",
   "nbconvert_exporter": "python",
   "pygments_lexer": "ipython3",
   "version": "3.5.2"
  }
 },
 "nbformat": 4,
 "nbformat_minor": 0
}
